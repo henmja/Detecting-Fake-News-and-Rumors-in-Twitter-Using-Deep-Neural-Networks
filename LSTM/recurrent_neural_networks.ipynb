{
 "cells": [
  {
   "cell_type": "code",
   "execution_count": null,
   "metadata": {},
   "outputs": [],
   "source": [
    "import nltk\n",
    "nltk.download('stopwords')"
   ]
  },
  {
   "cell_type": "code",
   "execution_count": 160,
   "metadata": {},
   "outputs": [],
   "source": [
    "import nltk\n",
    "import re\n",
    "from tqdm import tqdm_notebook\n",
    "from nltk.corpus import stopwords\n",
    "from tensorflow.keras import regularizers, initializers, optimizers, callbacks\n",
    "from tensorflow.keras.preprocessing.sequence import pad_sequences\n",
    "from tensorflow.keras.preprocessing.text import Tokenizer\n",
    "from keras.utils.np_utils import to_categorical\n",
    "from tensorflow.keras.layers import *\n",
    "from keras.models import Sequential\n",
    "from keras.layers import Dense\n",
    "from keras.layers import Flatten\n",
    "from keras.layers import Embedding\n",
    "from keras.layers import LSTM\n",
    "from keras.layers import GlobalMaxPool1D\n",
    "from keras.layers import Dropout\n",
    "from keras.layers import InputLayer\n",
    "import pandas as pd\n",
    "pd.set_option('display.max_columns', 500)\n",
    "pd.set_option('display.width', 1000)\n",
    "import numpy as np\n",
    "\n",
    "#!spell login #henmja, a****"
   ]
  },
  {
   "cell_type": "code",
   "execution_count": 161,
   "metadata": {},
   "outputs": [
    {
     "data": {
      "text/html": [
       "<div>\n",
       "<style scoped>\n",
       "    .dataframe tbody tr th:only-of-type {\n",
       "        vertical-align: middle;\n",
       "    }\n",
       "\n",
       "    .dataframe tbody tr th {\n",
       "        vertical-align: top;\n",
       "    }\n",
       "\n",
       "    .dataframe thead th {\n",
       "        text-align: right;\n",
       "    }\n",
       "</style>\n",
       "<table border=\"1\" class=\"dataframe\">\n",
       "  <thead>\n",
       "    <tr style=\"text-align: right;\">\n",
       "      <th></th>\n",
       "      <th>contributors_enabled_user</th>\n",
       "      <th>created_at</th>\n",
       "      <th>created_at_user</th>\n",
       "      <th>default_profile_image_user</th>\n",
       "      <th>default_profile_user</th>\n",
       "      <th>description_user</th>\n",
       "      <th>display_url_zero_urls_entities</th>\n",
       "      <th>display_url_zero_urls_url_entities_user</th>\n",
       "      <th>expanded_url_zero_urls_entities</th>\n",
       "      <th>expanded_url_zero_urls_url_entities_user</th>\n",
       "      <th>favorite_count</th>\n",
       "      <th>favorited</th>\n",
       "      <th>favourites_count_user</th>\n",
       "      <th>follow_request_sent_user</th>\n",
       "      <th>followers_count_user</th>\n",
       "      <th>following_user</th>\n",
       "      <th>friends_count_user</th>\n",
       "      <th>geo_enabled_user</th>\n",
       "      <th>has_extended_profile_user</th>\n",
       "      <th>id</th>\n",
       "      <th>id_str</th>\n",
       "      <th>id_str_user</th>\n",
       "      <th>id_str_zero_user_mentions_entities</th>\n",
       "      <th>id_user</th>\n",
       "      <th>id_zero_user_mentions_entities</th>\n",
       "      <th>is_quote_status</th>\n",
       "      <th>is_translation_enabled_user</th>\n",
       "      <th>is_translator_user</th>\n",
       "      <th>lang</th>\n",
       "      <th>listed_count_user</th>\n",
       "      <th>location_user</th>\n",
       "      <th>name_user</th>\n",
       "      <th>name_zero_user_mentions_entities</th>\n",
       "      <th>notifications_user</th>\n",
       "      <th>possibly_sensitive</th>\n",
       "      <th>possibly_sensitive_appealable</th>\n",
       "      <th>profile_background_color_user</th>\n",
       "      <th>profile_background_image_url_https_user</th>\n",
       "      <th>profile_background_image_url_user</th>\n",
       "      <th>profile_background_tile_user</th>\n",
       "      <th>profile_banner_url_user</th>\n",
       "      <th>profile_image_url_https_user</th>\n",
       "      <th>profile_image_url_user</th>\n",
       "      <th>profile_link_color_user</th>\n",
       "      <th>profile_sidebar_border_color_user</th>\n",
       "      <th>profile_sidebar_fill_color_user</th>\n",
       "      <th>profile_text_color_user</th>\n",
       "      <th>profile_use_background_image_user</th>\n",
       "      <th>protected_user</th>\n",
       "      <th>retweet_count</th>\n",
       "      <th>retweeted</th>\n",
       "      <th>screen_name_user</th>\n",
       "      <th>screen_name_zero_user_mentions_entities</th>\n",
       "      <th>source</th>\n",
       "      <th>statuses_count_user</th>\n",
       "      <th>text</th>\n",
       "      <th>translator_type_user</th>\n",
       "      <th>truncated</th>\n",
       "      <th>url_user</th>\n",
       "      <th>url_zero_urls_entities</th>\n",
       "      <th>url_zero_urls_url_entities_user</th>\n",
       "      <th>verified_user</th>\n",
       "      <th>zero_indices_zero_urls_entities</th>\n",
       "      <th>one_indices_zero_urls_entities</th>\n",
       "      <th>zero_indices_zero_urls_url_entities_user</th>\n",
       "      <th>one_indices_zero_urls_url_entities_user</th>\n",
       "      <th>zero_indices_zero_user_mentions_entities</th>\n",
       "      <th>one_indices_zero_user_mentions_entities</th>\n",
       "      <th>followers</th>\n",
       "      <th>following</th>\n",
       "      <th>label</th>\n",
       "    </tr>\n",
       "  </thead>\n",
       "  <tbody>\n",
       "    <tr>\n",
       "      <th>788</th>\n",
       "      <td>False</td>\n",
       "      <td>2017-05-20 14:11:39+00:00</td>\n",
       "      <td>Sun Oct 25 14:01:48 +0000 2009</td>\n",
       "      <td>False</td>\n",
       "      <td>True</td>\n",
       "      <td></td>\n",
       "      <td>fb.me/1fYsjNaLC</td>\n",
       "      <td>thekind-heartedsmartaleck.blogspot.com</td>\n",
       "      <td>http://fb.me/1fYsjNaLC</td>\n",
       "      <td>http://thekind-heartedsmartaleck.blogspot.com/</td>\n",
       "      <td>0.0</td>\n",
       "      <td>False</td>\n",
       "      <td>16.0</td>\n",
       "      <td>False</td>\n",
       "      <td>47.0</td>\n",
       "      <td>False</td>\n",
       "      <td>87.0</td>\n",
       "      <td>True</td>\n",
       "      <td>True</td>\n",
       "      <td>8.659330e+17</td>\n",
       "      <td>8.659330e+17</td>\n",
       "      <td>85085807</td>\n",
       "      <td>10228272</td>\n",
       "      <td>8.508581e+07</td>\n",
       "      <td>8.529181e+16</td>\n",
       "      <td>False</td>\n",
       "      <td>False</td>\n",
       "      <td>False</td>\n",
       "      <td>en</td>\n",
       "      <td>7.0</td>\n",
       "      <td>Gassaway WV</td>\n",
       "      <td>Terry Bly</td>\n",
       "      <td>YouTube</td>\n",
       "      <td>False</td>\n",
       "      <td>False</td>\n",
       "      <td>False</td>\n",
       "      <td>C0DEED</td>\n",
       "      <td>https://abs.twimg.com/images/themes/theme1/bg.png</td>\n",
       "      <td>http://abs.twimg.com/images/themes/theme1/bg.png</td>\n",
       "      <td>False</td>\n",
       "      <td>https://pbs.twimg.com/profile_banners/13552184...</td>\n",
       "      <td>https://pbs.twimg.com/profile_images/249393875...</td>\n",
       "      <td>http://pbs.twimg.com/profile_images/2493938757...</td>\n",
       "      <td>1DA1F2</td>\n",
       "      <td>C0DEED</td>\n",
       "      <td>DDEEF6</td>\n",
       "      <td>333333</td>\n",
       "      <td>True</td>\n",
       "      <td>False</td>\n",
       "      <td>0.0</td>\n",
       "      <td>False</td>\n",
       "      <td>TlbBly</td>\n",
       "      <td>YouTube</td>\n",
       "      <td>&lt;a href=\"http://www.facebook.com/twitter\" rel=...</td>\n",
       "      <td>90486.0</td>\n",
       "      <td>WORSE THAN HITLER! Trey Gowdy’s Son Found In A...</td>\n",
       "      <td>none</td>\n",
       "      <td>False</td>\n",
       "      <td>None</td>\n",
       "      <td>https://t.co/dxpndRqHjL</td>\n",
       "      <td>http://t.co/PYrnTHpCvI</td>\n",
       "      <td>False</td>\n",
       "      <td>93.0</td>\n",
       "      <td>116.0</td>\n",
       "      <td>0.0</td>\n",
       "      <td>22.545205</td>\n",
       "      <td>49.264865</td>\n",
       "      <td>60.043243</td>\n",
       "      <td>8165876438847090636</td>\n",
       "      <td>8165876438847090636</td>\n",
       "      <td>fake</td>\n",
       "    </tr>\n",
       "    <tr>\n",
       "      <th>789</th>\n",
       "      <td>False</td>\n",
       "      <td>2017-12-09 09:10:03+00:00</td>\n",
       "      <td>Wed Feb 24 22:58:57 +0000 2016</td>\n",
       "      <td>False</td>\n",
       "      <td>True</td>\n",
       "      <td>PROUD PATRIOT SUPPORTING TRUMP!! PRO-AMERICAN....</td>\n",
       "      <td>twitter.com/i/web/status/9…</td>\n",
       "      <td>thekind-heartedsmartaleck.blogspot.com</td>\n",
       "      <td>https://twitter.com/i/web/status/9394218766187...</td>\n",
       "      <td>http://thekind-heartedsmartaleck.blogspot.com/</td>\n",
       "      <td>0.0</td>\n",
       "      <td>False</td>\n",
       "      <td>74641.0</td>\n",
       "      <td>False</td>\n",
       "      <td>6903.0</td>\n",
       "      <td>False</td>\n",
       "      <td>4533.0</td>\n",
       "      <td>True</td>\n",
       "      <td>True</td>\n",
       "      <td>9.394219e+17</td>\n",
       "      <td>9.394219e+17</td>\n",
       "      <td>702628810483765249</td>\n",
       "      <td>10228272</td>\n",
       "      <td>7.026288e+17</td>\n",
       "      <td>8.529181e+16</td>\n",
       "      <td>False</td>\n",
       "      <td>False</td>\n",
       "      <td>False</td>\n",
       "      <td>en</td>\n",
       "      <td>86.0</td>\n",
       "      <td>Orlando, FL</td>\n",
       "      <td>#TRUMP2020</td>\n",
       "      <td>YouTube</td>\n",
       "      <td>False</td>\n",
       "      <td>False</td>\n",
       "      <td>False</td>\n",
       "      <td>F5F8FA</td>\n",
       "      <td>None</td>\n",
       "      <td>None</td>\n",
       "      <td>False</td>\n",
       "      <td>https://pbs.twimg.com/profile_banners/70262881...</td>\n",
       "      <td>https://pbs.twimg.com/profile_images/111902430...</td>\n",
       "      <td>http://pbs.twimg.com/profile_images/1119024306...</td>\n",
       "      <td>1DA1F2</td>\n",
       "      <td>C0DEED</td>\n",
       "      <td>DDEEF6</td>\n",
       "      <td>333333</td>\n",
       "      <td>True</td>\n",
       "      <td>False</td>\n",
       "      <td>0.0</td>\n",
       "      <td>False</td>\n",
       "      <td>PolyPatriot</td>\n",
       "      <td>YouTube</td>\n",
       "      <td>&lt;a href=\"http://twitter.com/download/iphone\" r...</td>\n",
       "      <td>155849.0</td>\n",
       "      <td>Facebook Picks Sides in Alabama Senate Race=&amp;g...</td>\n",
       "      <td>none</td>\n",
       "      <td>True</td>\n",
       "      <td>None</td>\n",
       "      <td>https://t.co/o4Qq2UFraj</td>\n",
       "      <td>http://t.co/PYrnTHpCvI</td>\n",
       "      <td>False</td>\n",
       "      <td>120.0</td>\n",
       "      <td>143.0</td>\n",
       "      <td>0.0</td>\n",
       "      <td>22.545205</td>\n",
       "      <td>49.264865</td>\n",
       "      <td>60.043243</td>\n",
       "      <td>3430018387555</td>\n",
       "      <td>3430018387555</td>\n",
       "      <td>fake</td>\n",
       "    </tr>\n",
       "    <tr>\n",
       "      <th>790</th>\n",
       "      <td>False</td>\n",
       "      <td>2017-08-29 17:54:38+00:00</td>\n",
       "      <td>Tue Sep 15 02:55:59 +0000 2009</td>\n",
       "      <td>False</td>\n",
       "      <td>True</td>\n",
       "      <td></td>\n",
       "      <td>houstonchronicle-tv.com/floyd-mayweath…</td>\n",
       "      <td>thekind-heartedsmartaleck.blogspot.com</td>\n",
       "      <td>http://houstonchronicle-tv.com/floyd-mayweathe...</td>\n",
       "      <td>http://thekind-heartedsmartaleck.blogspot.com/</td>\n",
       "      <td>1.0</td>\n",
       "      <td>False</td>\n",
       "      <td>11.0</td>\n",
       "      <td>False</td>\n",
       "      <td>24.0</td>\n",
       "      <td>False</td>\n",
       "      <td>42.0</td>\n",
       "      <td>True</td>\n",
       "      <td>False</td>\n",
       "      <td>9.025903e+17</td>\n",
       "      <td>9.025903e+17</td>\n",
       "      <td>74346965</td>\n",
       "      <td>10228272</td>\n",
       "      <td>7.434696e+07</td>\n",
       "      <td>8.529181e+16</td>\n",
       "      <td>False</td>\n",
       "      <td>False</td>\n",
       "      <td>False</td>\n",
       "      <td>en</td>\n",
       "      <td>0.0</td>\n",
       "      <td>Louisville Ky</td>\n",
       "      <td>Eugene Angton</td>\n",
       "      <td>YouTube</td>\n",
       "      <td>False</td>\n",
       "      <td>False</td>\n",
       "      <td>False</td>\n",
       "      <td>C0DEED</td>\n",
       "      <td>https://abs.twimg.com/images/themes/theme1/bg.png</td>\n",
       "      <td>http://abs.twimg.com/images/themes/theme1/bg.png</td>\n",
       "      <td>False</td>\n",
       "      <td>https://pbs.twimg.com/profile_banners/74346965...</td>\n",
       "      <td>https://pbs.twimg.com/profile_images/378800000...</td>\n",
       "      <td>http://pbs.twimg.com/profile_images/3788000004...</td>\n",
       "      <td>1DA1F2</td>\n",
       "      <td>C0DEED</td>\n",
       "      <td>DDEEF6</td>\n",
       "      <td>333333</td>\n",
       "      <td>True</td>\n",
       "      <td>False</td>\n",
       "      <td>0.0</td>\n",
       "      <td>False</td>\n",
       "      <td>Jellyroll123</td>\n",
       "      <td>YouTube</td>\n",
       "      <td>&lt;a href=\"http://twitter.com\" rel=\"nofollow\"&gt;Tw...</td>\n",
       "      <td>380.0</td>\n",
       "      <td>Floyd Mayweather Jr. donates a whopping sum of...</td>\n",
       "      <td>none</td>\n",
       "      <td>False</td>\n",
       "      <td>None</td>\n",
       "      <td>https://t.co/HvXKZyK7SR</td>\n",
       "      <td>http://t.co/PYrnTHpCvI</td>\n",
       "      <td>False</td>\n",
       "      <td>82.0</td>\n",
       "      <td>105.0</td>\n",
       "      <td>0.0</td>\n",
       "      <td>22.545205</td>\n",
       "      <td>49.264865</td>\n",
       "      <td>60.043243</td>\n",
       "      <td>3430018387555</td>\n",
       "      <td>3430018387555</td>\n",
       "      <td>fake</td>\n",
       "    </tr>\n",
       "    <tr>\n",
       "      <th>791</th>\n",
       "      <td>False</td>\n",
       "      <td>2018-02-21 18:47:48+00:00</td>\n",
       "      <td>Sat Mar 07 18:27:04 +0000 2009</td>\n",
       "      <td>False</td>\n",
       "      <td>False</td>\n",
       "      <td>Huge Cubs,Reds, Yankees, NASCAR, other Sports ...</td>\n",
       "      <td>twitter.com/i/web/status/9…</td>\n",
       "      <td>thekind-heartedsmartaleck.blogspot.com</td>\n",
       "      <td>https://twitter.com/i/web/status/9663839718305...</td>\n",
       "      <td>http://thekind-heartedsmartaleck.blogspot.com/</td>\n",
       "      <td>0.0</td>\n",
       "      <td>False</td>\n",
       "      <td>1446.0</td>\n",
       "      <td>False</td>\n",
       "      <td>1299.0</td>\n",
       "      <td>False</td>\n",
       "      <td>2612.0</td>\n",
       "      <td>False</td>\n",
       "      <td>False</td>\n",
       "      <td>9.663840e+17</td>\n",
       "      <td>9.663840e+17</td>\n",
       "      <td>23218938</td>\n",
       "      <td>39321718</td>\n",
       "      <td>2.321894e+07</td>\n",
       "      <td>3.932172e+07</td>\n",
       "      <td>False</td>\n",
       "      <td>False</td>\n",
       "      <td>False</td>\n",
       "      <td>en</td>\n",
       "      <td>32.0</td>\n",
       "      <td>kentucky</td>\n",
       "      <td>Nathan Platt</td>\n",
       "      <td>I'm a Hucketman. HUCKETMAAANNN!!!</td>\n",
       "      <td>False</td>\n",
       "      <td>False</td>\n",
       "      <td>False</td>\n",
       "      <td>C0DEED</td>\n",
       "      <td>https://abs.twimg.com/images/themes/theme1/bg.png</td>\n",
       "      <td>http://abs.twimg.com/images/themes/theme1/bg.png</td>\n",
       "      <td>False</td>\n",
       "      <td>https://pbs.twimg.com/profile_banners/23218938...</td>\n",
       "      <td>https://pbs.twimg.com/profile_images/730235016...</td>\n",
       "      <td>http://pbs.twimg.com/profile_images/7302350165...</td>\n",
       "      <td>0084B4</td>\n",
       "      <td>FFFFFF</td>\n",
       "      <td>DDEEF6</td>\n",
       "      <td>333333</td>\n",
       "      <td>True</td>\n",
       "      <td>False</td>\n",
       "      <td>0.0</td>\n",
       "      <td>False</td>\n",
       "      <td>nathanplatt</td>\n",
       "      <td>TylerHuckabee</td>\n",
       "      <td>&lt;a href=\"http://twitter.com\" rel=\"nofollow\"&gt;Tw...</td>\n",
       "      <td>29590.0</td>\n",
       "      <td>@TylerHuckabee @LagBeachAntifa9 @AntifaNantuck...</td>\n",
       "      <td>none</td>\n",
       "      <td>True</td>\n",
       "      <td>None</td>\n",
       "      <td>https://t.co/ov0ufnxkkf</td>\n",
       "      <td>http://t.co/PYrnTHpCvI</td>\n",
       "      <td>False</td>\n",
       "      <td>105.0</td>\n",
       "      <td>128.0</td>\n",
       "      <td>0.0</td>\n",
       "      <td>22.545205</td>\n",
       "      <td>0.000000</td>\n",
       "      <td>14.000000</td>\n",
       "      <td>-1498122592735974136</td>\n",
       "      <td>-1498122592735974136</td>\n",
       "      <td>fake</td>\n",
       "    </tr>\n",
       "    <tr>\n",
       "      <th>792</th>\n",
       "      <td>False</td>\n",
       "      <td>2018-02-23 18:45:47+00:00</td>\n",
       "      <td>Sat Nov 14 10:57:36 +0000 2015</td>\n",
       "      <td>False</td>\n",
       "      <td>True</td>\n",
       "      <td>TRUMP WORLD 🌎 MAGA ❤️ USA 🇺🇸 PLS DO NOT FOLLOW...</td>\n",
       "      <td>youtube.com/watch?v=p57cN5…</td>\n",
       "      <td>thekind-heartedsmartaleck.blogspot.com</td>\n",
       "      <td>https://www.youtube.com/watch?v=p57cN5LMHBI&amp;fe...</td>\n",
       "      <td>http://thekind-heartedsmartaleck.blogspot.com/</td>\n",
       "      <td>0.0</td>\n",
       "      <td>False</td>\n",
       "      <td>53360.0</td>\n",
       "      <td>False</td>\n",
       "      <td>14578.0</td>\n",
       "      <td>False</td>\n",
       "      <td>15038.0</td>\n",
       "      <td>True</td>\n",
       "      <td>False</td>\n",
       "      <td>9.671082e+17</td>\n",
       "      <td>9.671082e+17</td>\n",
       "      <td>4185870568</td>\n",
       "      <td>10228272</td>\n",
       "      <td>4.185871e+09</td>\n",
       "      <td>8.529181e+16</td>\n",
       "      <td>False</td>\n",
       "      <td>False</td>\n",
       "      <td>False</td>\n",
       "      <td>en</td>\n",
       "      <td>63.0</td>\n",
       "      <td></td>\n",
       "      <td>JJ MAGA &amp; MIGA</td>\n",
       "      <td>YouTube</td>\n",
       "      <td>False</td>\n",
       "      <td>False</td>\n",
       "      <td>False</td>\n",
       "      <td>C0DEED</td>\n",
       "      <td>https://abs.twimg.com/images/themes/theme1/bg.png</td>\n",
       "      <td>http://abs.twimg.com/images/themes/theme1/bg.png</td>\n",
       "      <td>False</td>\n",
       "      <td>https://pbs.twimg.com/profile_banners/41858705...</td>\n",
       "      <td>https://pbs.twimg.com/profile_images/764506715...</td>\n",
       "      <td>http://pbs.twimg.com/profile_images/7645067153...</td>\n",
       "      <td>1DA1F2</td>\n",
       "      <td>C0DEED</td>\n",
       "      <td>DDEEF6</td>\n",
       "      <td>333333</td>\n",
       "      <td>True</td>\n",
       "      <td>False</td>\n",
       "      <td>0.0</td>\n",
       "      <td>False</td>\n",
       "      <td>JJJJPI4444</td>\n",
       "      <td>YouTube</td>\n",
       "      <td>&lt;a href=\"http://twitter.com/#!/download/ipad\" ...</td>\n",
       "      <td>242124.0</td>\n",
       "      <td>Obama Announces Bid To Become UN Secretary Gen...</td>\n",
       "      <td>none</td>\n",
       "      <td>False</td>\n",
       "      <td>None</td>\n",
       "      <td>https://t.co/qx1flX5mC7</td>\n",
       "      <td>http://t.co/PYrnTHpCvI</td>\n",
       "      <td>False</td>\n",
       "      <td>51.0</td>\n",
       "      <td>74.0</td>\n",
       "      <td>0.0</td>\n",
       "      <td>22.545205</td>\n",
       "      <td>49.264865</td>\n",
       "      <td>60.043243</td>\n",
       "      <td>3430018387555</td>\n",
       "      <td>3430018387555</td>\n",
       "      <td>fake</td>\n",
       "    </tr>\n",
       "  </tbody>\n",
       "</table>\n",
       "</div>"
      ],
      "text/plain": [
       "    contributors_enabled_user                created_at                 created_at_user default_profile_image_user default_profile_user                                   description_user           display_url_zero_urls_entities display_url_zero_urls_url_entities_user                    expanded_url_zero_urls_entities        expanded_url_zero_urls_url_entities_user  favorite_count favorited  favourites_count_user follow_request_sent_user  followers_count_user following_user  friends_count_user geo_enabled_user has_extended_profile_user            id        id_str         id_str_user id_str_zero_user_mentions_entities       id_user  id_zero_user_mentions_entities is_quote_status is_translation_enabled_user is_translator_user lang  listed_count_user  location_user       name_user   name_zero_user_mentions_entities notifications_user possibly_sensitive possibly_sensitive_appealable profile_background_color_user            profile_background_image_url_https_user  \\\n",
       "788                     False 2017-05-20 14:11:39+00:00  Sun Oct 25 14:01:48 +0000 2009                      False                 True                                                                             fb.me/1fYsjNaLC  thekind-heartedsmartaleck.blogspot.com                             http://fb.me/1fYsjNaLC  http://thekind-heartedsmartaleck.blogspot.com/             0.0     False                   16.0                    False                  47.0          False                87.0             True                      True  8.659330e+17  8.659330e+17            85085807                           10228272  8.508581e+07                    8.529181e+16           False                       False              False   en                7.0    Gassaway WV       Terry Bly                            YouTube              False              False                         False                        C0DEED  https://abs.twimg.com/images/themes/theme1/bg.png   \n",
       "789                     False 2017-12-09 09:10:03+00:00  Wed Feb 24 22:58:57 +0000 2016                      False                 True  PROUD PATRIOT SUPPORTING TRUMP!! PRO-AMERICAN....              twitter.com/i/web/status/9…  thekind-heartedsmartaleck.blogspot.com  https://twitter.com/i/web/status/9394218766187...  http://thekind-heartedsmartaleck.blogspot.com/             0.0     False                74641.0                    False                6903.0          False              4533.0             True                      True  9.394219e+17  9.394219e+17  702628810483765249                           10228272  7.026288e+17                    8.529181e+16           False                       False              False   en               86.0    Orlando, FL      #TRUMP2020                            YouTube              False              False                         False                        F5F8FA                                               None   \n",
       "790                     False 2017-08-29 17:54:38+00:00  Tue Sep 15 02:55:59 +0000 2009                      False                 True                                                     houstonchronicle-tv.com/floyd-mayweath…  thekind-heartedsmartaleck.blogspot.com  http://houstonchronicle-tv.com/floyd-mayweathe...  http://thekind-heartedsmartaleck.blogspot.com/             1.0     False                   11.0                    False                  24.0          False                42.0             True                     False  9.025903e+17  9.025903e+17            74346965                           10228272  7.434696e+07                    8.529181e+16           False                       False              False   en                0.0  Louisville Ky   Eugene Angton                            YouTube              False              False                         False                        C0DEED  https://abs.twimg.com/images/themes/theme1/bg.png   \n",
       "791                     False 2018-02-21 18:47:48+00:00  Sat Mar 07 18:27:04 +0000 2009                      False                False  Huge Cubs,Reds, Yankees, NASCAR, other Sports ...              twitter.com/i/web/status/9…  thekind-heartedsmartaleck.blogspot.com  https://twitter.com/i/web/status/9663839718305...  http://thekind-heartedsmartaleck.blogspot.com/             0.0     False                 1446.0                    False                1299.0          False              2612.0            False                     False  9.663840e+17  9.663840e+17            23218938                           39321718  2.321894e+07                    3.932172e+07           False                       False              False   en               32.0       kentucky    Nathan Platt  I'm a Hucketman. HUCKETMAAANNN!!!              False              False                         False                        C0DEED  https://abs.twimg.com/images/themes/theme1/bg.png   \n",
       "792                     False 2018-02-23 18:45:47+00:00  Sat Nov 14 10:57:36 +0000 2015                      False                 True  TRUMP WORLD 🌎 MAGA ❤️ USA 🇺🇸 PLS DO NOT FOLLOW...              youtube.com/watch?v=p57cN5…  thekind-heartedsmartaleck.blogspot.com  https://www.youtube.com/watch?v=p57cN5LMHBI&fe...  http://thekind-heartedsmartaleck.blogspot.com/             0.0     False                53360.0                    False               14578.0          False             15038.0             True                     False  9.671082e+17  9.671082e+17          4185870568                           10228272  4.185871e+09                    8.529181e+16           False                       False              False   en               63.0                 JJ MAGA & MIGA                            YouTube              False              False                         False                        C0DEED  https://abs.twimg.com/images/themes/theme1/bg.png   \n",
       "\n",
       "                    profile_background_image_url_user profile_background_tile_user                            profile_banner_url_user                       profile_image_url_https_user                             profile_image_url_user profile_link_color_user profile_sidebar_border_color_user profile_sidebar_fill_color_user profile_text_color_user profile_use_background_image_user protected_user  retweet_count retweeted screen_name_user screen_name_zero_user_mentions_entities                                             source  statuses_count_user                                               text translator_type_user truncated url_user   url_zero_urls_entities url_zero_urls_url_entities_user verified_user  zero_indices_zero_urls_entities  one_indices_zero_urls_entities  zero_indices_zero_urls_url_entities_user  one_indices_zero_urls_url_entities_user  zero_indices_zero_user_mentions_entities  one_indices_zero_user_mentions_entities             followers             following label  \n",
       "788  http://abs.twimg.com/images/themes/theme1/bg.png                        False  https://pbs.twimg.com/profile_banners/13552184...  https://pbs.twimg.com/profile_images/249393875...  http://pbs.twimg.com/profile_images/2493938757...                  1DA1F2                            C0DEED                          DDEEF6                  333333                              True          False            0.0     False           TlbBly                                 YouTube  <a href=\"http://www.facebook.com/twitter\" rel=...              90486.0  WORSE THAN HITLER! Trey Gowdy’s Son Found In A...                 none     False     None  https://t.co/dxpndRqHjL          http://t.co/PYrnTHpCvI         False                             93.0                           116.0                                       0.0                                22.545205                                 49.264865                                60.043243   8165876438847090636   8165876438847090636  fake  \n",
       "789                                              None                        False  https://pbs.twimg.com/profile_banners/70262881...  https://pbs.twimg.com/profile_images/111902430...  http://pbs.twimg.com/profile_images/1119024306...                  1DA1F2                            C0DEED                          DDEEF6                  333333                              True          False            0.0     False      PolyPatriot                                 YouTube  <a href=\"http://twitter.com/download/iphone\" r...             155849.0  Facebook Picks Sides in Alabama Senate Race=&g...                 none      True     None  https://t.co/o4Qq2UFraj          http://t.co/PYrnTHpCvI         False                            120.0                           143.0                                       0.0                                22.545205                                 49.264865                                60.043243         3430018387555         3430018387555  fake  \n",
       "790  http://abs.twimg.com/images/themes/theme1/bg.png                        False  https://pbs.twimg.com/profile_banners/74346965...  https://pbs.twimg.com/profile_images/378800000...  http://pbs.twimg.com/profile_images/3788000004...                  1DA1F2                            C0DEED                          DDEEF6                  333333                              True          False            0.0     False     Jellyroll123                                 YouTube  <a href=\"http://twitter.com\" rel=\"nofollow\">Tw...                380.0  Floyd Mayweather Jr. donates a whopping sum of...                 none     False     None  https://t.co/HvXKZyK7SR          http://t.co/PYrnTHpCvI         False                             82.0                           105.0                                       0.0                                22.545205                                 49.264865                                60.043243         3430018387555         3430018387555  fake  \n",
       "791  http://abs.twimg.com/images/themes/theme1/bg.png                        False  https://pbs.twimg.com/profile_banners/23218938...  https://pbs.twimg.com/profile_images/730235016...  http://pbs.twimg.com/profile_images/7302350165...                  0084B4                            FFFFFF                          DDEEF6                  333333                              True          False            0.0     False      nathanplatt                           TylerHuckabee  <a href=\"http://twitter.com\" rel=\"nofollow\">Tw...              29590.0  @TylerHuckabee @LagBeachAntifa9 @AntifaNantuck...                 none      True     None  https://t.co/ov0ufnxkkf          http://t.co/PYrnTHpCvI         False                            105.0                           128.0                                       0.0                                22.545205                                  0.000000                                14.000000  -1498122592735974136  -1498122592735974136  fake  \n",
       "792  http://abs.twimg.com/images/themes/theme1/bg.png                        False  https://pbs.twimg.com/profile_banners/41858705...  https://pbs.twimg.com/profile_images/764506715...  http://pbs.twimg.com/profile_images/7645067153...                  1DA1F2                            C0DEED                          DDEEF6                  333333                              True          False            0.0     False       JJJJPI4444                                 YouTube  <a href=\"http://twitter.com/#!/download/ipad\" ...             242124.0  Obama Announces Bid To Become UN Secretary Gen...                 none     False     None  https://t.co/qx1flX5mC7          http://t.co/PYrnTHpCvI         False                             51.0                            74.0                                       0.0                                22.545205                                 49.264865                                60.043243         3430018387555         3430018387555  fake  "
      ]
     },
     "execution_count": 161,
     "metadata": {},
     "output_type": "execute_result"
    }
   ],
   "source": [
    "import pandas as pd\n",
    "pd.set_option('display.max_columns', 500)\n",
    "pd.set_option('display.width', 1000)\n",
    "df = pd.read_pickle(\"bigdataHashed.pkl\")\n",
    "df.tail()"
   ]
  },
  {
   "cell_type": "code",
   "execution_count": 327,
   "metadata": {},
   "outputs": [],
   "source": [
    "\n",
    "    \n",
    "df['created_at'] = df['created_at'].astype(str)\n",
    "df['followers'] = df['followers'].astype(str)\n",
    "df['following'] = df['following'].astype(str)\n",
    "#https://datascience.stackexchange.com/questions/67145/word-embedding-or-hash\n",
    "\n",
    "#convert followers og following til words og bruk bigdataClean\n",
    "#normalize numeric values\n",
    "#http://digital-thinking.de/deep-learning-combining-numerical-and-text-features-in-deep-neural-networks/\n",
    "#concatenate numeric values og kjør LSTM med to inputs\n",
    "#increase Sequence length med antall attributes og embed numeric attributes og bruk sequential hvis to inputs ikke går.\n",
    "#word embedding av bigdataClean og LSTM. Order followers før embedding? (gloves er trent til å behandle ord som tall)\n",
    "#prøve uten normalize?"
   ]
  },
  {
   "cell_type": "code",
   "execution_count": 328,
   "metadata": {},
   "outputs": [
    {
     "name": "stdout",
     "output_type": "stream",
     "text": [
      "created_at: 2015-10-09 21:18:53+00:00 - text: Missed @marcorubio in NH this week? Come to a town hall meeting in Derry on Wednesday. #fitn #nhpolitics #nhformarco https://t.co/FlrKPldQ76 - created_at_user: Fri Jun 27 23:15:54 +0000 2014 - name_user: Paige Johnson - name_zero_user_mentions_entities: Marco Rubio - location_user: Jericho, NY - description_user: Sagittarius♐️ | @darrencriss🕶 | Demi Lovato💖 | Board of Directors @NHLogCabin🏳️‍🌈 | All opinions are my own. - contributors_enabled_user: False - default_profile_image_user: False - default_profile_user: False - favorited: False - follow_request_sent_user: False - following_user: False - geo_enabled_user: True - has_extended_profile_user: True - id: 6.525941018802668e+17 - id_str: 6.525941018802668e+17 - id_str_user: 2592090978 - id_str_zero_user_mentions_entities: 15745368 - id_user: 2592090978.0 - id_zero_user_mentions_entities: 15745368.0 - is_quote_status: False - is_translation_enabled_user: False - is_translator_user: False - lang: en - location_user: Jericho, NY - name_user: Paige Johnson - notifications_user: False - possibly_sensitive: False - possibly_sensitive_appealable: False - profile_background_color_user: 2F0EEB - profile_background_tile_user: True - profile_link_color_user: ED0E0E - profile_sidebar_border_color_user: FFFFFF - profile_sidebar_fill_color_user: DDEEF6 - profile_text_color_user: 333333 - profile_use_background_image_user: True - protected_user: False - retweeted: False - screen_name_user: Paige_Johnson17 - screen_name_zero_user_mentions_entities: marcorubio - translator_type_user: none - truncated: False - verified_user: False - followers: 3430018387555 - following: 3430018387555\n"
     ]
    }
   ],
   "source": [
    "#xCols = ['created_at', 'text', 'created_at_user','name_user', 'name_zero_user_mentions_entities', 'location_user', 'description_user', 'source', 'display_url_zero_urls_entities', 'contributors_enabled_user', 'default_profile_image_user', 'default_profile_user', 'display_url_zero_urls_url_entities_user', 'expanded_url_zero_urls_entities', 'expanded_url_zero_urls_url_entities_user', 'favorited', 'follow_request_sent_user', 'following_user', 'geo_enabled_user', 'has_extended_profile_user', 'id', 'id_str', 'id_str_user', 'id_str_zero_user_mentions_entities', 'id_user', 'id_zero_user_mentions_entities', 'is_quote_status', 'is_translation_enabled_user', 'is_translator_user', 'lang', 'location_user', 'name_user', 'notifications_user', 'possibly_sensitive', 'possibly_sensitive_appealable', 'profile_background_color_user', 'profile_background_image_url_https_user', 'profile_background_image_url_user', 'profile_background_tile_user', 'profile_banner_url_user', 'profile_image_url_https_user', 'profile_image_url_user', 'profile_link_color_user', 'profile_sidebar_border_color_user', 'profile_sidebar_fill_color_user', 'profile_text_color_user', 'profile_use_background_image_user', 'protected_user', 'retweeted', 'screen_name_user', 'screen_name_zero_user_mentions_entities', 'translator_type_user', 'truncated', 'url_user', 'url_zero_urls_entities', 'url_zero_urls_url_entities_user', 'verified_user']\n",
    "xCols = ['created_at', 'text', 'created_at_user','name_user', 'name_zero_user_mentions_entities', 'location_user', 'description_user', 'contributors_enabled_user', 'default_profile_image_user', 'default_profile_user', 'favorited', 'follow_request_sent_user', 'following_user', 'geo_enabled_user', 'has_extended_profile_user', 'id', 'id_str', 'id_str_user', 'id_str_zero_user_mentions_entities', 'id_user', 'id_zero_user_mentions_entities', 'is_quote_status', 'is_translation_enabled_user', 'is_translator_user', 'lang', 'location_user', 'name_user', 'notifications_user', 'possibly_sensitive', 'possibly_sensitive_appealable', 'profile_background_color_user', 'profile_background_tile_user', 'profile_link_color_user', 'profile_sidebar_border_color_user', 'profile_sidebar_fill_color_user', 'profile_text_color_user', 'profile_use_background_image_user', 'protected_user', 'retweeted', 'screen_name_user', 'screen_name_zero_user_mentions_entities', 'translator_type_user', 'truncated', 'verified_user', 'followers', 'following']\n",
    "#xCols = ['created_at', 'text', 'created_at_user','name_user', 'name_zero_user_mentions_entities', 'location_user', 'description_user', 'contributors_enabled_user', 'default_profile_image_user', 'default_profile_user', 'favorited', 'follow_request_sent_user', 'following_user', 'geo_enabled_user', 'has_extended_profile_user', 'id', 'id_str', 'id_str_user', 'id_str_zero_user_mentions_entities', 'id_user', 'id_zero_user_mentions_entities', 'is_quote_status', 'is_translation_enabled_user', 'is_translator_user', 'lang', 'location_user', 'name_user', 'notifications_user', 'possibly_sensitive', 'possibly_sensitive_appealable', 'profile_background_tile_user', 'profile_use_background_image_user', 'protected_user', 'retweeted', 'screen_name_user', 'screen_name_zero_user_mentions_entities', 'translator_type_user', 'truncated', 'verified_user', 'followers', 'following']\n",
    "x = 'created_at: ' + df['created_at'] + ' - text: ' + df['text']\n",
    "i = 0\n",
    "for col in xCols:\n",
    "    df[col] = df[col].astype(str)\n",
    "for idx in xCols:\n",
    "    if i>1:\n",
    "        x = x + ' - ' + str(idx) + ': ' + df[idx]\n",
    "    i=i+1\n",
    "#x = df[xCols].apply(lambda row: .join(row.values.astype(str)), axis=1)\n",
    "print(x[0])"
   ]
  },
  {
   "cell_type": "code",
   "execution_count": 329,
   "metadata": {},
   "outputs": [],
   "source": [
    "num_Cols = ['favorite_count', 'favourites_count_user', 'followers_count_user', 'friends_count_user', 'listed_count_user', 'retweet_count', 'statuses_count_user', 'zero_indices_zero_urls_entities', 'one_indices_zero_urls_entities', 'zero_indices_zero_urls_url_entities_user', 'one_indices_zero_urls_url_entities_user', 'zero_indices_zero_user_mentions_entities', 'one_indices_zero_user_mentions_entities']\n",
    "y = pd.get_dummies(df['label'])\n",
    "y = np.array(y)"
   ]
  },
  {
   "cell_type": "code",
   "execution_count": 330,
   "metadata": {},
   "outputs": [
    {
     "name": "stdout",
     "output_type": "stream",
     "text": [
      "[[0 1]\n",
      " [0 1]\n",
      " [0 1]\n",
      " ...\n",
      " [1 0]\n",
      " [1 0]\n",
      " [1 0]]\n"
     ]
    }
   ],
   "source": [
    "print(y)"
   ]
  },
  {
   "cell_type": "code",
   "execution_count": 331,
   "metadata": {},
   "outputs": [],
   "source": [
    "MAX_NB_WORDS = 100000 # max number of words for tokenizer\n",
    "MAX_SEQUENCE_LENGTH = 1000 # max length of each sentences, including padding\n",
    "VALIDATION_SPLIT = 0.2 # 20% of data for validation (not used in training)\n",
    "EMBEDDING_DIM = 100 # embedding dimensions for word vectors\n",
    "GLOVE_DIR = 'glove.6B.'+str(EMBEDDING_DIM)+'d.txt'"
   ]
  },
  {
   "cell_type": "code",
   "execution_count": 332,
   "metadata": {},
   "outputs": [],
   "source": [
    "def clean_text(text, remove_stopwords = True):\n",
    "    output = \"\"\n",
    "    text = str(text).replace(r'http[\\w:/\\.]+','') # removing urls\n",
    "    text = str(text).replace(r'[^\\.\\w\\s]','') #remove everything but characters and punctuation\n",
    "    text = str(text).replace(r'\\.\\.+','.') #replace multiple periods with a single one\n",
    "    text = str(text).replace(r'\\.',' . ') #replace periods with a single one\n",
    "    text = str(text).replace(r'\\s\\s+',' ') #replace multiple white space with a single one\n",
    "    text = str(text).replace('\\n', '') #removing line breaks\n",
    "    text = re.sub(r'[^\\w\\s]','',text).lower() #lower texts\n",
    "    if remove_stopwords:\n",
    "        text = text.split(' ')\n",
    "    for word in text:\n",
    "        if word not in stopwords.words('english'):\n",
    "            output = output + \" \" + word\n",
    "        #else:\n",
    "            #output = text\n",
    "            #print(word)\n",
    "    return str(output.strip())[1:-3].replace(' ', ' ')"
   ]
  },
  {
   "cell_type": "code",
   "execution_count": 333,
   "metadata": {},
   "outputs": [
    {
     "name": "stdout",
     "output_type": "stream",
     "text": [
      "['i', 'me', 'my', 'myself', 'we', 'our', 'ours', 'ourselves', 'you', \"you're\", \"you've\", \"you'll\", \"you'd\", 'your', 'yours', 'yourself', 'yourselves', 'he', 'him', 'his', 'himself', 'she', \"she's\", 'her', 'hers', 'herself', 'it', \"it's\", 'its', 'itself', 'they', 'them', 'their', 'theirs', 'themselves', 'what', 'which', 'who', 'whom', 'this', 'that', \"that'll\", 'these', 'those', 'am', 'is', 'are', 'was', 'were', 'be', 'been', 'being', 'have', 'has', 'had', 'having', 'do', 'does', 'did', 'doing', 'a', 'an', 'the', 'and', 'but', 'if', 'or', 'because', 'as', 'until', 'while', 'of', 'at', 'by', 'for', 'with', 'about', 'against', 'between', 'into', 'through', 'during', 'before', 'after', 'above', 'below', 'to', 'from', 'up', 'down', 'in', 'out', 'on', 'off', 'over', 'under', 'again', 'further', 'then', 'once', 'here', 'there', 'when', 'where', 'why', 'how', 'all', 'any', 'both', 'each', 'few', 'more', 'most', 'other', 'some', 'such', 'no', 'nor', 'not', 'only', 'own', 'same', 'so', 'than', 'too', 'very', 's', 't', 'can', 'will', 'just', 'don', \"don't\", 'should', \"should've\", 'now', 'd', 'll', 'm', 'o', 're', 've', 'y', 'ain', 'aren', \"aren't\", 'couldn', \"couldn't\", 'didn', \"didn't\", 'doesn', \"doesn't\", 'hadn', \"hadn't\", 'hasn', \"hasn't\", 'haven', \"haven't\", 'isn', \"isn't\", 'ma', 'mightn', \"mightn't\", 'mustn', \"mustn't\", 'needn', \"needn't\", 'shan', \"shan't\", 'shouldn', \"shouldn't\", 'wasn', \"wasn't\", 'weren', \"weren't\", 'won', \"won't\", 'wouldn', \"wouldn't\"]\n"
     ]
    }
   ],
   "source": [
    "print(stopwords.words('english'))"
   ]
  },
  {
   "cell_type": "code",
   "execution_count": 334,
   "metadata": {},
   "outputs": [
    {
     "data": {
      "application/vnd.jupyter.widget-view+json": {
       "model_id": "6fb54d20a7fb4bce9b03bf3f58412506",
       "version_major": 2,
       "version_minor": 0
      },
      "text/plain": [
       "HBox(children=(IntProgress(value=0, max=793), HTML(value='')))"
      ]
     },
     "metadata": {},
     "output_type": "display_data"
    },
    {
     "name": "stdout",
     "output_type": "stream",
     "text": [
      "\n"
     ]
    }
   ],
   "source": [
    "texts = [] \n",
    "for line in tqdm_notebook(x, total=df.shape[0]): \n",
    "    texts.append(clean_text(line))"
   ]
  },
  {
   "cell_type": "code",
   "execution_count": 335,
   "metadata": {},
   "outputs": [
    {
     "name": "stdout",
     "output_type": "stream",
     "text": [
      "Sample data: reated_at 20151009 2118530000  text missed marcorubio nh week come town hall meeting derry wednesday fitn nhpolitics nhformarco httpstcoflrkpldq76  created_at_user fri jun 27 231554 0000 2014  name_user paige johnson  name_zero_user_mentions_entities marco rubio  location_user jericho ny  description_user sagittarius  darrencriss  demi lovato  board directors nhlogcabin  opinions  contributors_enabled_user false  default_profile_image_user false  default_profile_user false  favorited false  follow_request_sent_user false  following_user false  geo_enabled_user true  has_extended_profile_user true  id 6525941018802668e17  id_str 6525941018802668e17  id_str_user 2592090978  id_str_zero_user_mentions_entities 15745368  id_user 25920909780  id_zero_user_mentions_entities 157453680  is_quote_status false  is_translation_enabled_user false  is_translator_user false  lang en  location_user jericho ny  name_user paige johnson  notifications_user false  possibly_sensitive false  possibly_sensitive_appealable false  profile_background_color_user 2f0eeb  profile_background_tile_user true  profile_link_color_user ed0e0e  profile_sidebar_border_color_user ffffff  profile_sidebar_fill_color_user ddeef6  profile_text_color_user 333333  profile_use_background_image_user true  protected_user false  retweeted false  screen_name_user paige_johnson17  screen_name_zero_user_mentions_entities marcorubio  translator_type_user none  truncated false  verified_user false  followers 3430018387555  following 3430018387 [0 1]\n"
     ]
    }
   ],
   "source": [
    "print('Sample data:', texts[0], y[0])"
   ]
  },
  {
   "cell_type": "code",
   "execution_count": 336,
   "metadata": {},
   "outputs": [
    {
     "name": "stdout",
     "output_type": "stream",
     "text": [
      "Vocabulary size: 15064\n"
     ]
    }
   ],
   "source": [
    "#encode text as numbers\n",
    "tokenizer = Tokenizer(num_words=MAX_NB_WORDS)\n",
    "tokenizer.fit_on_texts(texts)\n",
    "sequences = tokenizer.texts_to_sequences(texts)\n",
    "word_index = tokenizer.word_index\n",
    "print('Vocabulary size:', len(word_index))"
   ]
  },
  {
   "cell_type": "code",
   "execution_count": 337,
   "metadata": {},
   "outputs": [
    {
     "name": "stdout",
     "output_type": "stream",
     "text": [
      "Shape of data tensor: (793, 1000)\n",
      "Shape of label tensor: (793, 2)\n"
     ]
    }
   ],
   "source": [
    "data = pad_sequences(sequences, padding = 'post', maxlen = MAX_SEQUENCE_LENGTH)\n",
    "print('Shape of data tensor:', data.shape)\n",
    "print('Shape of label tensor:', y.shape)"
   ]
  },
  {
   "cell_type": "code",
   "execution_count": 338,
   "metadata": {},
   "outputs": [],
   "source": [
    "indices = np.arange(data.shape[0])\n",
    "np.random.shuffle(indices)\n",
    "data = data[indices]\n",
    "labels = y[indices]"
   ]
  },
  {
   "cell_type": "code",
   "execution_count": 339,
   "metadata": {},
   "outputs": [
    {
     "name": "stdout",
     "output_type": "stream",
     "text": [
      "Number of entries in each category:\n",
      "training:  [300 335]\n",
      "validation:  [85 73]\n"
     ]
    }
   ],
   "source": [
    "num_validation_samples = int(VALIDATION_SPLIT*data.shape[0])\n",
    "x_train = data[: -num_validation_samples]\n",
    "y_train = labels[: -num_validation_samples]\n",
    "x_val = data[-num_validation_samples: ]\n",
    "y_val = labels[-num_validation_samples: ]\n",
    "print('Number of entries in each category:')\n",
    "print('training: ', y_train.sum(axis=0))\n",
    "print('validation: ', y_val.sum(axis=0))"
   ]
  },
  {
   "cell_type": "code",
   "execution_count": 340,
   "metadata": {},
   "outputs": [
    {
     "name": "stdout",
     "output_type": "stream",
     "text": [
      "Tokenized sentences: \n",
      " [  37   19 9215 9216   16 9217 3334 3335  136   73 9218 9219  429 1194\n",
      "  113  794  155 9220   31   19    1   77  103  138 9221   38  109    5\n",
      "    1 3336  128    5    7    1    8    9   58   20    1   39    1   40\n",
      "   11    1    2   21    3   17    1    2   21    3    1   14   41    2\n",
      "   26   42   43    1    2   15    1    2   44   11    1    2   45   46\n",
      "    3    1    2    4 3337    4   12 3337    4   12    1 9222    4   12\n",
      "    7    1    8    9   68    4    1 9223    4    7    1    8    9   60\n",
      "   13   32   29    2   13   34   11    1    2   13   22    1    2   47\n",
      "   55   20    1    5    1 3336  128   48    1    2   18   23    2   18\n",
      "   23   49    2    3   10    6    1   59    3   10   50    1    2    3\n",
      "   33    6    1   66    3   24   27    6    1   59    3   24   35    6\n",
      "    1   65    3   16    6    1   62    3   28   10   17    1   14   51\n",
      "    1    2   36    2   25    5    1 9224   25    5    7    1    8    9\n",
      "   58   22   52    1   56   53    2   54    1    2   30 9225   15 9226\n",
      "    0    0    0    0    0    0    0    0    0    0    0    0    0    0\n",
      "    0    0    0    0    0    0    0    0    0    0    0    0    0    0\n",
      "    0    0    0    0    0    0    0    0    0    0    0    0    0    0\n",
      "    0    0    0    0    0    0    0    0    0    0    0    0    0    0\n",
      "    0    0    0    0    0    0    0    0    0    0    0    0    0    0\n",
      "    0    0    0    0    0    0    0    0    0    0    0    0    0    0\n",
      "    0    0    0    0    0    0    0    0    0    0    0    0    0    0\n",
      "    0    0    0    0    0    0    0    0    0    0    0    0    0    0\n",
      "    0    0    0    0    0    0    0    0    0    0    0    0    0    0\n",
      "    0    0    0    0    0    0    0    0    0    0    0    0    0    0\n",
      "    0    0    0    0    0    0    0    0    0    0    0    0    0    0\n",
      "    0    0    0    0    0    0    0    0    0    0    0    0    0    0\n",
      "    0    0    0    0    0    0    0    0    0    0    0    0    0    0\n",
      "    0    0    0    0    0    0    0    0    0    0    0    0    0    0\n",
      "    0    0    0    0    0    0    0    0    0    0    0    0    0    0\n",
      "    0    0    0    0    0    0    0    0    0    0    0    0    0    0\n",
      "    0    0    0    0    0    0    0    0    0    0    0    0    0    0\n",
      "    0    0    0    0    0    0    0    0    0    0    0    0    0    0\n",
      "    0    0    0    0    0    0    0    0    0    0    0    0    0    0\n",
      "    0    0    0    0    0    0    0    0    0    0    0    0    0    0\n",
      "    0    0    0    0    0    0    0    0    0    0    0    0    0    0\n",
      "    0    0    0    0    0    0    0    0    0    0    0    0    0    0\n",
      "    0    0    0    0    0    0    0    0    0    0    0    0    0    0\n",
      "    0    0    0    0    0    0    0    0    0    0    0    0    0    0\n",
      "    0    0    0    0    0    0    0    0    0    0    0    0    0    0\n",
      "    0    0    0    0    0    0    0    0    0    0    0    0    0    0\n",
      "    0    0    0    0    0    0    0    0    0    0    0    0    0    0\n",
      "    0    0    0    0    0    0    0    0    0    0    0    0    0    0\n",
      "    0    0    0    0    0    0    0    0    0    0    0    0    0    0\n",
      "    0    0    0    0    0    0    0    0    0    0    0    0    0    0\n",
      "    0    0    0    0    0    0    0    0    0    0    0    0    0    0\n",
      "    0    0    0    0    0    0    0    0    0    0    0    0    0    0\n",
      "    0    0    0    0    0    0    0    0    0    0    0    0    0    0\n",
      "    0    0    0    0    0    0    0    0    0    0    0    0    0    0\n",
      "    0    0    0    0    0    0    0    0    0    0    0    0    0    0\n",
      "    0    0    0    0    0    0    0    0    0    0    0    0    0    0\n",
      "    0    0    0    0    0    0    0    0    0    0    0    0    0    0\n",
      "    0    0    0    0    0    0    0    0    0    0    0    0    0    0\n",
      "    0    0    0    0    0    0    0    0    0    0    0    0    0    0\n",
      "    0    0    0    0    0    0    0    0    0    0    0    0    0    0\n",
      "    0    0    0    0    0    0    0    0    0    0    0    0    0    0\n",
      "    0    0    0    0    0    0    0    0    0    0    0    0    0    0\n",
      "    0    0    0    0    0    0    0    0    0    0    0    0    0    0\n",
      "    0    0    0    0    0    0    0    0    0    0    0    0    0    0\n",
      "    0    0    0    0    0    0    0    0    0    0    0    0    0    0\n",
      "    0    0    0    0    0    0    0    0    0    0    0    0    0    0\n",
      "    0    0    0    0    0    0    0    0    0    0    0    0    0    0\n",
      "    0    0    0    0    0    0    0    0    0    0    0    0    0    0\n",
      "    0    0    0    0    0    0    0    0    0    0    0    0    0    0\n",
      "    0    0    0    0    0    0    0    0    0    0    0    0    0    0\n",
      "    0    0    0    0    0    0    0    0    0    0    0    0    0    0\n",
      "    0    0    0    0    0    0    0    0    0    0    0    0    0    0\n",
      "    0    0    0    0    0    0    0    0    0    0    0    0    0    0\n",
      "    0    0    0    0    0    0    0    0    0    0    0    0    0    0\n",
      "    0    0    0    0    0    0    0    0    0    0    0    0    0    0\n",
      "    0    0    0    0    0    0    0    0    0    0    0    0    0    0\n",
      "    0    0    0    0    0    0    0    0    0    0    0    0    0    0\n",
      "    0    0    0    0    0    0]\n",
      "One hot label: \n",
      " [0 1]\n"
     ]
    }
   ],
   "source": [
    "print('Tokenized sentences: \\n', data[10])\n",
    "print('One hot label: \\n', labels[10])"
   ]
  },
  {
   "cell_type": "code",
   "execution_count": 341,
   "metadata": {},
   "outputs": [
    {
     "name": "stdout",
     "output_type": "stream",
     "text": [
      "Loading Glove from: glove.6B.100d.txt …Done.\n",
      " Proceeding with Embedding Matrix…Completed!\n"
     ]
    }
   ],
   "source": [
    "embeddings_index = {}\n",
    "f = open(GLOVE_DIR, encoding='utf8')\n",
    "print('Loading Glove from:', GLOVE_DIR,'…', end='')\n",
    "for line in f:\n",
    "    values = line.split()\n",
    "    word = values[0]\n",
    "    embeddings_index[word] = np.asarray(values[1:], dtype='float32')\n",
    "f.close()\n",
    "print(\"Done.\\n Proceeding with Embedding Matrix…\", end=\"\")\n",
    "\n",
    "embedding_matrix = np.random.random((len(word_index) + 1, EMBEDDING_DIM))\n",
    "for word, i in word_index.items():\n",
    "    embedding_vector = embeddings_index.get(word)\n",
    "    if embedding_vector is not None:\n",
    "        embedding_matrix[i] = embedding_vector\n",
    "print(\"Completed!\")"
   ]
  },
  {
   "cell_type": "code",
   "execution_count": 348,
   "metadata": {},
   "outputs": [],
   "source": [
    "\n",
    "model = Sequential()\n",
    "model.add(InputLayer((MAX_SEQUENCE_LENGTH,),dtype='int32'))\n",
    "e = Embedding(len(word_index) + 1, EMBEDDING_DIM, weights=[embedding_matrix], input_length=MAX_SEQUENCE_LENGTH, trainable=False)\n",
    "model.add(e)\n",
    "model.add(LSTM(60, return_sequences=True,name='lstm_layer'))\n",
    "model.add(GlobalMaxPool1D())\n",
    "model.add(Dropout(0.1))\n",
    "model.add(Dense(50, activation='relu'))\n",
    "model.add(Dropout(0.1))\n",
    "model.add(Dense(2, activation='sigmoid'))\n",
    "          "
   ]
  },
  {
   "cell_type": "code",
   "execution_count": 349,
   "metadata": {},
   "outputs": [],
   "source": [
    "model.compile(optimizer='adam', loss='binary_crossentropy',\n",
    " metrics = ['accuracy'])"
   ]
  },
  {
   "cell_type": "code",
   "execution_count": 350,
   "metadata": {},
   "outputs": [
    {
     "name": "stdout",
     "output_type": "stream",
     "text": [
      "Train on 635 samples, validate on 158 samples\n",
      "Epoch 1/20\n",
      "635/635 [==============================] - ETA: 1:45 - loss: 0.7354 - acc: 0.502 - ETA: 42s - loss: 0.7245 - acc: 0.487 - ETA: 8s - loss: 0.7161 - acc: 0.4983 - 93s 146ms/step - loss: 0.7140 - acc: 0.4976 - val_loss: 0.6969 - val_acc: 0.5032\n",
      "Epoch 2/20\n",
      "635/635 [==============================] - ETA: 48s - loss: 0.6938 - acc: 0.50 - ETA: 23s - loss: 0.6972 - acc: 0.51 - ETA: 5s - loss: 0.6959 - acc: 0.5182 - 55s 86ms/step - loss: 0.6958 - acc: 0.5150 - val_loss: 0.6960 - val_acc: 0.4968\n",
      "Epoch 3/20\n",
      "635/635 [==============================] - ETA: 36s - loss: 0.6912 - acc: 0.53 - ETA: 19s - loss: 0.6922 - acc: 0.51 - ETA: 4s - loss: 0.6868 - acc: 0.5347 - 49s 77ms/step - loss: 0.6866 - acc: 0.5386 - val_loss: 0.6859 - val_acc: 0.4810\n",
      "Epoch 4/20\n",
      "635/635 [==============================] - ETA: 30s - loss: 0.6747 - acc: 0.59 - ETA: 17s - loss: 0.6793 - acc: 0.57 - ETA: 4s - loss: 0.6818 - acc: 0.5530 - 43s 68ms/step - loss: 0.6800 - acc: 0.5622 - val_loss: 0.6815 - val_acc: 0.5158\n",
      "Epoch 5/20\n",
      "635/635 [==============================] - ETA: 38s - loss: 0.6765 - acc: 0.58 - ETA: 20s - loss: 0.6712 - acc: 0.58 - ETA: 4s - loss: 0.6694 - acc: 0.6024 - 47s 74ms/step - loss: 0.6695 - acc: 0.5992 - val_loss: 0.6707 - val_acc: 0.5253\n",
      "Epoch 6/20\n",
      "635/635 [==============================] - ETA: 37s - loss: 0.6596 - acc: 0.62 - ETA: 20s - loss: 0.6548 - acc: 0.63 - ETA: 4s - loss: 0.6546 - acc: 0.6424 - 54s 85ms/step - loss: 0.6546 - acc: 0.6433 - val_loss: 0.6505 - val_acc: 0.7152\n",
      "Epoch 7/20\n",
      "635/635 [==============================] - ETA: 41s - loss: 0.6462 - acc: 0.68 - ETA: 22s - loss: 0.6465 - acc: 0.69 - ETA: 4s - loss: 0.6431 - acc: 0.7135 - 50s 79ms/step - loss: 0.6398 - acc: 0.7252 - val_loss: 0.6271 - val_acc: 0.8608\n",
      "Epoch 8/20\n",
      "635/635 [==============================] - ETA: 44s - loss: 0.6266 - acc: 0.76 - ETA: 30s - loss: 0.6194 - acc: 0.78 - ETA: 10s - loss: 0.6168 - acc: 0.79 - 116s 182ms/step - loss: 0.6176 - acc: 0.7898 - val_loss: 0.6019 - val_acc: 0.8703\n",
      "Epoch 9/20\n",
      "635/635 [==============================] - ETA: 1:57 - loss: 0.5885 - acc: 0.843 - ETA: 1:01 - loss: 0.5850 - acc: 0.845 - ETA: 11s - loss: 0.5846 - acc: 0.844 - 112s 176ms/step - loss: 0.5843 - acc: 0.8417 - val_loss: 0.5672 - val_acc: 0.8797\n",
      "Epoch 10/20\n",
      "635/635 [==============================] - ETA: 36s - loss: 0.5585 - acc: 0.85 - ETA: 20s - loss: 0.5463 - acc: 0.87 - ETA: 4s - loss: 0.5427 - acc: 0.8854 - 49s 78ms/step - loss: 0.5422 - acc: 0.8890 - val_loss: 0.5250 - val_acc: 0.8734\n",
      "Epoch 11/20\n",
      "635/635 [==============================] - ETA: 42s - loss: 0.5063 - acc: 0.88 - ETA: 58s - loss: 0.5025 - acc: 0.89 - ETA: 16s - loss: 0.4988 - acc: 0.89 - 171s 269ms/step - loss: 0.4991 - acc: 0.8913 - val_loss: 0.4716 - val_acc: 0.8956\n",
      "Epoch 12/20\n",
      "635/635 [==============================] - ETA: 2:23 - loss: 0.4609 - acc: 0.890 - ETA: 58s - loss: 0.4560 - acc: 0.885 - ETA: 10s - loss: 0.4435 - acc: 0.90 - 110s 173ms/step - loss: 0.4434 - acc: 0.8969 - val_loss: 0.4316 - val_acc: 0.8829\n",
      "Epoch 13/20\n",
      "635/635 [==============================] - ETA: 47s - loss: 0.4200 - acc: 0.91 - ETA: 50s - loss: 0.4029 - acc: 0.91 - ETA: 9s - loss: 0.3934 - acc: 0.9158 - 98s 154ms/step - loss: 0.3940 - acc: 0.9102 - val_loss: 0.3783 - val_acc: 0.8861\n",
      "Epoch 14/20\n",
      "635/635 [==============================] - ETA: 36s - loss: 0.3581 - acc: 0.90 - ETA: 20s - loss: 0.3519 - acc: 0.90 - ETA: 4s - loss: 0.3478 - acc: 0.9080 - 47s 75ms/step - loss: 0.3448 - acc: 0.9118 - val_loss: 0.3285 - val_acc: 0.9177\n",
      "Epoch 15/20\n",
      "635/635 [==============================] - ETA: 27s - loss: 0.2733 - acc: 0.93 - ETA: 15s - loss: 0.2778 - acc: 0.93 - ETA: 3s - loss: 0.2841 - acc: 0.9288 - 38s 60ms/step - loss: 0.2827 - acc: 0.9299 - val_loss: 0.3096 - val_acc: 0.8861\n",
      "Epoch 16/20\n",
      "635/635 [==============================] - ETA: 37s - loss: 0.2649 - acc: 0.93 - ETA: 19s - loss: 0.2606 - acc: 0.93 - ETA: 4s - loss: 0.2572 - acc: 0.9323 - 45s 72ms/step - loss: 0.2583 - acc: 0.9307 - val_loss: 0.2949 - val_acc: 0.8892\n",
      "Epoch 17/20\n",
      "635/635 [==============================] - ETA: 29s - loss: 0.2481 - acc: 0.90 - ETA: 16s - loss: 0.2404 - acc: 0.91 - ETA: 3s - loss: 0.2384 - acc: 0.9115 - 40s 63ms/step - loss: 0.2321 - acc: 0.9173 - val_loss: 0.2303 - val_acc: 0.9272\n",
      "Epoch 18/20\n",
      "635/635 [==============================] - ETA: 27s - loss: 0.2171 - acc: 0.92 - ETA: 15s - loss: 0.1911 - acc: 0.94 - ETA: 3s - loss: 0.1912 - acc: 0.9392 - 40s 63ms/step - loss: 0.2024 - acc: 0.9331 - val_loss: 0.2071 - val_acc: 0.9272\n",
      "Epoch 19/20\n",
      "635/635 [==============================] - ETA: 40s - loss: 0.2001 - acc: 0.91 - ETA: 20s - loss: 0.2081 - acc: 0.91 - ETA: 4s - loss: 0.1972 - acc: 0.9253 - 49s 77ms/step - loss: 0.1915 - acc: 0.9299 - val_loss: 0.2054 - val_acc: 0.9304\n",
      "Epoch 20/20\n",
      "635/635 [==============================] - ETA: 35s - loss: 0.1765 - acc: 0.95 - ETA: 19s - loss: 0.1601 - acc: 0.95 - ETA: 4s - loss: 0.1687 - acc: 0.9488 - 47s 73ms/step - loss: 0.1679 - acc: 0.9496 - val_loss: 0.2090 - val_acc: 0.9019\n"
     ]
    }
   ],
   "source": [
    "history = model.fit(x_train, y_train, epochs = 20, batch_size=128, validation_data=(x_val, y_val))\n",
    "#val acc = 0.9177\n",
    "#uten urls - val acc = 0.9494, batch 128\n",
    "#uten urls - val acc = 0.85, batch 192\n",
    "#uten urls - val acc = 0.9652, batch 64\n",
    "#uten urls og fargekoder - val acc = 0.9684,batch 128\n",
    "#uten urls og fargekoder - val acc = 0.9462,batch 64\n",
    "#uten urls og fargekoder - val acc = 0.9272,batch 192\n",
    "#uten boolean urls og fargekoder - val acc = 0.9272, batch 128\n",
    "#uten boolean urls og fargekoder - val acc = 0.9272, batch 192\n",
    "#uten boolean urls og fargekoder - val acc = 0.9430, batch 64\n",
    "#uten created urls og fargekoder - val acc = 0.9304, batch 192\n",
    "#uten created urls og fargekoder - val acc = 0.9430, batch 128\n",
    "#uten created urls og fargekoder - val acc = 0.9304, batch 64\n",
    "#uten id urls og fargekoder - val acc = 0.9241, batch 192\n",
    "#uten id urls og fargekoder - val acc = 0.9177, batch 128\n",
    "#uten id urls og fargekoder - val acc = 0.9367, batch 64\n",
    "#uten str urls og fargekoder - val acc = 0.8576, batch 192\n",
    "#uten str urls og fargekoder - val acc = 0.8481, batch 128\n",
    "#uten str urls og fargekoder - val acc = 0.8861, batch 64\n",
    "#med followers og following - val acc = 0.9304, batch 192\n",
    "#med followers og following - val acc = 0.9367, batch 128\n",
    "#med followers og following - val acc = 0.9335, batch 64"
   ]
  },
  {
   "cell_type": "code",
   "execution_count": 102,
   "metadata": {},
   "outputs": [
    {
     "data": {
      "image/png": "[encoded data removed]",
      "text/plain": [
       "<Figure size 432x288 with 1 Axes>"
      ]
     },
     "metadata": {
      "needs_background": "light"
     },
     "output_type": "display_data"
    }
   ],
   "source": [
    "import matplotlib.pyplot as plt\n",
    "%matplotlib inline\n",
    "loss = history.history['loss']\n",
    "val_loss = history.history['val_loss']\n",
    "epochs = range(1, len(loss)+1)\n",
    "plt.plot(epochs, loss, label='Training loss')\n",
    "plt.plot(epochs, val_loss, label='Validation loss')\n",
    "plt.title('Training and validation loss')\n",
    "plt.xlabel('Epochs')\n",
    "plt.ylabel('Loss')\n",
    "plt.legend()\n",
    "plt.show();"
   ]
  },
  {
   "cell_type": "code",
   "execution_count": 103,
   "metadata": {},
   "outputs": [
    {
     "data": {
      "image/png": "[encoded data removed]",
      "text/plain": [
       "<Figure size 432x288 with 1 Axes>"
      ]
     },
     "metadata": {
      "needs_background": "light"
     },
     "output_type": "display_data"
    }
   ],
   "source": [
    "accuracy = history.history['acc']\n",
    "val_accuracy = history.history['val_acc']\n",
    "plt.plot(epochs, accuracy, label='Training accuracy')\n",
    "plt.plot(epochs, val_accuracy, label='Validation accuracy')\n",
    "plt.title('Training and validation accuracy')\n",
    "plt.ylabel('Accuracy')\n",
    "plt.xlabel('Epochs')\n",
    "plt.legend()\n",
    "plt.show();"
   ]
  },
  {
   "cell_type": "code",
   "execution_count": 112,
   "metadata": {},
   "outputs": [],
   "source": [
    "random_num = np.random.randint(0, 100)\n",
    "test_data = x[random_num]\n",
    "test_label = y[random_num]\n",
    "clean_test_data = clean_text(test_data)\n",
    "test_tokenizer = Tokenizer(num_words=MAX_NB_WORDS)\n",
    "test_tokenizer.fit_on_texts(clean_test_data)\n",
    "test_sequences = tokenizer.texts_to_sequences(clean_test_data)\n",
    "word_index = test_tokenizer.word_index\n",
    "test_data_padded = pad_sequences(test_sequences, padding = 'post', maxlen = MAX_SEQUENCE_LENGTH)"
   ]
  },
  {
   "cell_type": "code",
   "execution_count": 113,
   "metadata": {},
   "outputs": [],
   "source": [
    "prediction = model.predict(test_data_padded)"
   ]
  },
  {
   "cell_type": "code",
   "execution_count": 114,
   "metadata": {},
   "outputs": [
    {
     "data": {
      "text/plain": [
       "array([0, 1], dtype=uint8)"
      ]
     },
     "execution_count": 114,
     "metadata": {},
     "output_type": "execute_result"
    }
   ],
   "source": [
    "test_label"
   ]
  },
  {
   "cell_type": "code",
   "execution_count": 115,
   "metadata": {},
   "outputs": [
    {
     "data": {
      "text/plain": [
       "array([0, 1], dtype=int64)"
      ]
     },
     "execution_count": 115,
     "metadata": {},
     "output_type": "execute_result"
    }
   ],
   "source": [
    "prediction[random_num].argsort()[-len(prediction[random_num]):]"
   ]
  },
  {
   "cell_type": "code",
   "execution_count": 116,
   "metadata": {},
   "outputs": [
    {
     "data": {
      "text/plain": [
       "'created_at: 2008-07-09 15:35:28+00:00 - text: Politico Mafioso: BARACK OBAMA\\'S FISA FLIP FRONT AND CENTER http://tinyurl.com/56klth - created_at_user: Thu May 29 21:17:36 +0000 2008 - name_user: alaskaBNN - name_zero_user_mentions_entities: PolitiFact - location_user: Alaska - description_user:  - source: <a href=\"http://twitter.com\" rel=\"nofollow\">Twitter Web Client</a> - display_url_zero_urls_entities: twitter.com/i/web/status/1… - contributors_enabled_user: False - default_profile_image_user: True - default_profile_user: False - display_url_zero_urls_url_entities_user: blognetnews.com/alaska - expanded_url_zero_urls_entities: http://aol.it/ZqFuvl - expanded_url_zero_urls_url_entities_user: http://www.blognetnews.com/alaska - favorited: False - follow_request_sent_user: False - following_user: False - geo_enabled_user: False - has_extended_profile_user: False - id: 853806659.0 - id_str: 853806659.0 - id_str_user: 14948358 - id_str_zero_user_mentions_entities: 8953122 - id_user: 14948358.0 - id_zero_user_mentions_entities: 8.529181491926525e+16 - is_quote_status: False - is_translation_enabled_user: False - is_translator_user: False - lang: it - location_user: Alaska - name_user: alaskaBNN - notifications_user: False - possibly_sensitive: False - possibly_sensitive_appealable: False - profile_background_color_user: 1177BC - profile_background_image_url_https_user: https://abs.twimg.com/images/themes/theme1/bg.png - profile_background_image_url_user: http://abs.twimg.com/images/themes/theme1/bg.png - profile_background_tile_user: False - profile_banner_url_user: https://pbs.twimg.com/profile_banners/18188773/1384790894 - profile_image_url_https_user: https://abs.twimg.com/sticky/default_profile_images/default_profile_normal.png - profile_image_url_user: http://abs.twimg.com/sticky/default_profile_images/default_profile_normal.png - profile_link_color_user: 7EA5D7 - profile_sidebar_border_color_user: FFFFFF - profile_sidebar_fill_color_user: D2D3D5 - profile_text_color_user: 000000 - profile_use_background_image_user: False - protected_user: False - retweeted: False - screen_name_user: alaskaBNN - screen_name_zero_user_mentions_entities: PolitiFact - translator_type_user: none - truncated: False - url_user: http://t.co/C0pO9CcKb6 - url_zero_urls_entities: http://t.co/dA5qw3yYYp - url_zero_urls_url_entities_user: http://t.co/C0pO9CcKb6 - verified_user: False'"
      ]
     },
     "execution_count": 116,
     "metadata": {},
     "output_type": "execute_result"
    }
   ],
   "source": [
    "test_data"
   ]
  },
  {
   "cell_type": "code",
   "execution_count": null,
   "metadata": {},
   "outputs": [],
   "source": [
    "input1 = Input(shape=(MAX_SEQ_LENGTH,), name='nlp_input') #TEXT\n",
    "input2 = Input(shape=(10,), name='meta_input') #NON-TEXT ATTRS\n",
    "emb = Embedding(output_dim=len(word_index) + 1, input_dim=EMBEDDING_DIM, weights = [embedding_matrix], \n",
    "                input_length=MAX_SEQ_LENGTH, \n",
    "                trainable=False, \n",
    "                name = ‘embeddings’)))(input1)\n",
    "input1_out = Bidirectional(LSTM(128, dropout=0.3, recurrent_dropout=0.3, kernel_regularizer=regularizers.l2(0.01)))(emb)\n",
    "merged = keras.layers.Concatenate(axis=1)([input1_out, input2])\n",
    "maxpool = keras.layers.GlobalMaxPool1D()(merged)\n",
    "dropout1 = keras.layers.Dropout(0.1)(maxpool)\n",
    "dense1 = keras.layers.Dense(1, activation=keras.activations.relu, use_bias=True)(dropout1)\n",
    "dropout2 = keras.layers.Dropout(0.1)(dense1)\n",
    "dense2 = keras.layers.Dense(2, input_dim=2, activation=keras.activations.sigmoid, use_bias=True)(dropout2)\n",
    "model10 = keras.models.Model(inputs=[input1, input2], output=output)\n",
    "model10.compile(optimizer=’adam’, loss=’binary_crossentropy’,\n",
    "metrics = ['accuracy')\n",
    "history = model0.fit([x_train, CAT_ATTRS],y_train, batch_size=16, epochs=100, validation_data=(x_val, y_val))                                     \n",
    "                \n",
    "import matplotlib.pyplot as plt\n",
    "%matplotlib inline\n",
    "loss = history.history[‘loss’]\n",
    "val_loss = history.history[‘val_loss’]\n",
    "epochs = range(1, len(loss)+1)\n",
    "plt.plot(epochs, loss, label=’Training loss’)\n",
    "plt.plot(epochs, val_loss, label=’Validation loss’)\n",
    "plt.title(‘Training and validation loss’)\n",
    "plt.xlabel(‘Epochs’)\n",
    "plt.ylabel(‘Loss’)\n",
    "plt.legend()\n",
    "plt.show();\n",
    "                \n",
    "accuracy = history.history[‘acc’]\n",
    "val_accuracy = history.history[‘val_acc’]\n",
    "plt.plot(epochs, accuracy, label=’Training accuracy’)\n",
    "plt.plot(epochs, val_accuracy, label=’Validation accuracy’)\n",
    "plt.title(‘Training and validation accuracy’)\n",
    "plt.ylabel(‘Accuracy’)\n",
    "plt.xlabel(‘Epochs’)\n",
    "plt.legend()\n",
    "plt.show();\n",
    "                \n",
    "random_num = np.random.randint(0, 100)\n",
    "test_data = x[random_num]\n",
    "test_label = y[random_num]\n",
    "clean_test_data = clean_text(test_data)\n",
    "test_tokenizer = Tokenizer(num_words=MAX_NB_WORDS)\n",
    "test_tokenizer.fit_on_texts(clean_test_data)\n",
    "test_sequences = tokenizer.texts_to_sequences(clean_test_data)\n",
    "word_index = test_tokenizer.word_index\n",
    "test_data_padded = pad_sequences(test_sequences, padding = ‘post’, maxlen = MAX_SEQUENCE_LENGTH)\n",
    "                \n",
    "prediction = model.predict(test_data_padded)\n",
    "                \n",
    "prediction[random_num].argsort()[-len(prediction[random_num]):]"
   ]
  },
  {
   "cell_type": "code",
   "execution_count": null,
   "metadata": {},
   "outputs": [],
   "source": []
  }
 ],
 "metadata": {
  "kernelspec": {
   "display_name": "Python 3",
   "language": "python",
   "name": "python3"
  },
  "language_info": {
   "codemirror_mode": {
    "name": "ipython",
    "version": 3
   },
   "file_extension": ".py",
   "mimetype": "text/x-python",
   "name": "python",
   "nbconvert_exporter": "python",
   "pygments_lexer": "ipython3",
   "version": "3.7.1"
  }
 },
 "nbformat": 4,
 "nbformat_minor": 2
}
