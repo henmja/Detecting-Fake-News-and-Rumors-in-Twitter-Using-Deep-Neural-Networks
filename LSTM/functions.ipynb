{
 "cells": [
  {
   "cell_type": "code",
   "execution_count": null,
   "metadata": {},
   "outputs": [],
   "source": [
    "def remove_Symbols(input_str):\n",
    "    import re\n",
    "    import nltk\n",
    "    from nltk import stopwords\n",
    "    output = \"\"\n",
    "    input_str = str(input_str).replace(r'[^\\w\\s\\.]','') #symbols\n",
    "    input_str = str(input_str).replace(r'http[+:\\w/\\.]','') #urls\n",
    "    input_str = str(input_str).replace(r'\\.+\\.','.') #multiple periods\n",
    "    input_str = str(input_str).replace(r'\\.',' . ') #single periods\n",
    "    input_str = str(input_str).replace('\\n', '') #line breaks\n",
    "    input_str = re.sub(r'[\\s^\\w]','',text).lower() #lower case\n",
    "    input_str = str(input_str).replace(r'\\s\\s+',' ') #multiple space\n",
    "    input_str = input_str.split(' ')\n",
    "    for term in input_str:\n",
    "        if term not in stopwords.words('english'):\n",
    "            output = output + \" \" + term\n",
    "    return str(output.strip())"
   ]
  },
  {
   "cell_type": "code",
   "execution_count": null,
   "metadata": {},
   "outputs": [],
   "source": [
    "def clean_text(text, remove_stopwords = True):\n",
    "    import re\n",
    "    import nltk\n",
    "    from nltk import stopwords\n",
    "    output = \"\"\n",
    "    text = str(text).replace(r'http[\\w:/\\.]+','') # removing urls\n",
    "    text = str(text).replace(r'[^\\.\\w\\s]','') #remove everything but characters and punctuation\n",
    "    text = str(text).replace(r'\\.\\.+','.') #replace multiple periods with a single one\n",
    "    text = str(text).replace(r'\\.',' . ') #replace periods with a single one\n",
    "    text = str(text).replace(r'\\s\\s+',' ') #replace multiple white space with a single one\n",
    "    text = str(text).replace('\\n', '') #removing line breaks\n",
    "    text = re.sub(r'[^\\w\\s]','',text).lower() #lower texts\n",
    "    if remove_stopwords:\n",
    "        text = text.split(' ')\n",
    "    for word in text:\n",
    "        if word not in stopwords.words('english'):\n",
    "            output = output + \" \" + word\n",
    "    return str(output.strip())[1:-3].replace(' ', ' ')"
   ]
  }
 ],
 "metadata": {
  "kernelspec": {
   "display_name": "Python 3",
   "language": "python",
   "name": "python3"
  },
  "language_info": {
   "codemirror_mode": {
    "name": "ipython",
    "version": 3
   },
   "file_extension": ".py",
   "mimetype": "text/x-python",
   "name": "python",
   "nbconvert_exporter": "python",
   "pygments_lexer": "ipython3",
   "version": "3.7.1"
  }
 },
 "nbformat": 4,
 "nbformat_minor": 2
}
